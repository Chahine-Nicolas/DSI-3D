{
 "cells": [
  {
   "cell_type": "code",
   "execution_count": 1,
   "id": "ba18498f-6d4a-471f-9c8b-a0612b9a2ac7",
   "metadata": {},
   "outputs": [],
   "source": [
    "import os\n",
    "import sys\n",
    "import glob\n",
    "import random\n",
    "import numpy as np\n",
    "import logging\n",
    "import json\n",
    "import torch\n",
    "import math\n",
    "#from pathlib import Path\n",
    "import matplotlib.pyplot as plt"
   ]
  },
  {
   "cell_type": "code",
   "execution_count": 2,
   "id": "d2819405-621c-4bc9-8af2-679c0e013b82",
   "metadata": {},
   "outputs": [
    {
     "ename": "NameError",
     "evalue": "name 'cfg' is not defined",
     "output_type": "error",
     "traceback": [
      "\u001b[0;31m---------------------------------------------------------------------------\u001b[0m",
      "\u001b[0;31mNameError\u001b[0m                                 Traceback (most recent call last)",
      "Cell \u001b[0;32mIn[2], line 1\u001b[0m\n\u001b[0;32m----> 1\u001b[0m seq_str \u001b[38;5;241m=\u001b[39m \u001b[43mcfg\u001b[49m[\u001b[38;5;124m'\u001b[39m\u001b[38;5;124mDATA_CONFIG\u001b[39m\u001b[38;5;124m'\u001b[39m][\u001b[38;5;124m'\u001b[39m\u001b[38;5;124mSEQ\u001b[39m\u001b[38;5;124m'\u001b[39m]\n\u001b[1;32m      2\u001b[0m root_path \u001b[38;5;241m=\u001b[39m \u001b[38;5;124m\"\u001b[39m\u001b[38;5;124m/lustre/fsn1/worksf/projects/rech/dki/ujo91el/datas/datasets/sequences/\u001b[39m\u001b[38;5;124m\"\u001b[39m\n\u001b[1;32m      3\u001b[0m desc_path \u001b[38;5;241m=\u001b[39m os\u001b[38;5;241m.\u001b[39mpath\u001b[38;5;241m.\u001b[39mjoin(root_path, seq_str, \u001b[38;5;124m\"\u001b[39m\u001b[38;5;124mlogg_desc\u001b[39m\u001b[38;5;124m\"\u001b[39m)\n",
      "\u001b[0;31mNameError\u001b[0m: name 'cfg' is not defined"
     ]
    }
   ],
   "source": [
    "seq_str = cfg['DATA_CONFIG']['SEQ']\n",
    "root_path = \"/lustre/fsn1/worksf/projects/rech/dki/ujo91el/datas/datasets/sequences/\"\n",
    "desc_path = os.path.join(root_path, seq_str, \"logg_desc\")\n",
    "file_path = os.path.join(desc_path, f\"{query_idx:06d}.pt\")\n",
    "test_feature = torch.load(file_path).to(torch.float32)"
   ]
  },
  {
   "cell_type": "code",
   "execution_count": null,
   "id": "bab5350e-dd63-4d60-a26d-e44bbe85c34b",
   "metadata": {},
   "outputs": [],
   "source": []
  },
  {
   "cell_type": "code",
   "execution_count": null,
   "id": "0e82afb1-c449-4e79-949d-99014e6a7a04",
   "metadata": {},
   "outputs": [],
   "source": []
  },
  {
   "cell_type": "code",
   "execution_count": null,
   "id": "e5d36c13-0f1b-4792-a11c-068904f87080",
   "metadata": {},
   "outputs": [],
   "source": []
  }
 ],
 "metadata": {
  "kernelspec": {
   "display_name": "sandbox",
   "language": "python",
   "name": "sandbox"
  },
  "language_info": {
   "codemirror_mode": {
    "name": "ipython",
    "version": 3
   },
   "file_extension": ".py",
   "mimetype": "text/x-python",
   "name": "python",
   "nbconvert_exporter": "python",
   "pygments_lexer": "ipython3",
   "version": "3.10.13"
  }
 },
 "nbformat": 4,
 "nbformat_minor": 5
}
