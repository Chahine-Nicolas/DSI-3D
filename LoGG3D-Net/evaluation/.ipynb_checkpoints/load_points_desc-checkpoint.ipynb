{
 "cells": [
  {
   "cell_type": "code",
   "execution_count": null,
   "id": "049bf84e-64fb-4be4-90a9-4c9d86a5a876",
   "metadata": {},
   "outputs": [],
   "source": [
    "import torch\n",
    "import numpy as np\n"
   ]
  },
  {
   "cell_type": "code",
   "execution_count": null,
   "id": "87f8460b-e649-424f-bdff-e856a147b09d",
   "metadata": {
    "scrolled": true
   },
   "outputs": [],
   "source": [
    "des = torch.load('/lustre/fsn1/worksf/projects/rech/dki/ujo91el/datas/datasets/sequences/00/logg_desc/000290.pt').to(device='cuda:0', dtype=torch.float32)"
   ]
  },
  {
   "cell_type": "code",
   "execution_count": null,
   "id": "bda19ade-b237-4488-9d44-272b45f6f06c",
   "metadata": {},
   "outputs": [],
   "source": [
    "des.min(), des.max(), des.mean(), des.std()"
   ]
  },
  {
   "cell_type": "code",
   "execution_count": null,
   "id": "dc964718-bc41-4c67-8b6d-1d6c3bfd9d17",
   "metadata": {},
   "outputs": [],
   "source": [
    "layer_norm = torch.nn.LayerNorm(256).to(device='cuda:0')\n",
    "# Activate module\n",
    "layer_norm"
   ]
  },
  {
   "cell_type": "code",
   "execution_count": null,
   "id": "484dc258-1a96-4b98-867c-a8673adbb52d",
   "metadata": {},
   "outputs": [],
   "source": [
    "des2 = layer_norm(des)"
   ]
  },
  {
   "cell_type": "code",
   "execution_count": null,
   "id": "793cca05-71e3-4cf7-80f0-55de1e0666ae",
   "metadata": {},
   "outputs": [],
   "source": [
    "des2.min(), des2.max(), des2.mean(), des2.std()"
   ]
  },
  {
   "cell_type": "code",
   "execution_count": null,
   "id": "2b22b102-786e-4c54-a74b-6ee429a23ffa",
   "metadata": {},
   "outputs": [],
   "source": []
  },
  {
   "cell_type": "code",
   "execution_count": null,
   "id": "bc5f8bb0-2426-4708-b064-9708ae4a4bda",
   "metadata": {},
   "outputs": [],
   "source": [
    "layer_norm = torch.nn.LayerNorm(256, False).to(device='cuda:0')\n",
    "# Activate module\n",
    "layer_norm"
   ]
  },
  {
   "cell_type": "code",
   "execution_count": null,
   "id": "b16a5c4b-6d08-4af6-8534-23750fa56ac6",
   "metadata": {},
   "outputs": [],
   "source": []
  },
  {
   "cell_type": "code",
   "execution_count": null,
   "id": "3bbb2fb9-30f7-4d11-a617-d19da05fd77c",
   "metadata": {},
   "outputs": [],
   "source": []
  },
  {
   "cell_type": "code",
   "execution_count": 12,
   "id": "fa5319bb-407a-419f-b9dd-ab331a0d007f",
   "metadata": {},
   "outputs": [],
   "source": [
    "xyzr = np.fromfile('/lustre/fsn1/worksf/projects/rech/dki/ujo91el/datas/datasets/sequences/00/velodyne/000290.bin', dtype=np.float32).reshape(-1, 4)"
   ]
  },
  {
   "cell_type": "code",
   "execution_count": 15,
   "id": "680ff3ea-22f9-445d-9f5e-bb1618e280bf",
   "metadata": {},
   "outputs": [
    {
     "data": {
      "text/plain": [
       "(array([[ 3.8649971e+01,  9.9893417e-03,  1.5159839e+00,  3.4000000e-01],\n",
       "        [ 3.8677593e+01,  1.3185932e-01,  1.5167881e+00,  2.3999999e-01],\n",
       "        [ 3.8978218e+01,  2.5472823e-01,  1.5265905e+00,  0.0000000e+00],\n",
       "        ...,\n",
       "        [ 3.8436596e+00, -1.4283494e+00, -1.7740752e+00,  3.1000000e-01],\n",
       "        [ 3.8612595e+00, -1.4213564e+00, -1.7810811e+00,  0.0000000e+00],\n",
       "        [ 3.9178958e+00, -1.4293467e+00, -1.8070652e+00,  0.0000000e+00]],\n",
       "       dtype=float32),\n",
       " (107769, 4))"
      ]
     },
     "execution_count": 15,
     "metadata": {},
     "output_type": "execute_result"
    }
   ],
   "source": [
    "xyzr, xyzr.shape"
   ]
  }
 ],
 "metadata": {
  "kernelspec": {
   "display_name": "sandbox",
   "language": "python",
   "name": "sandbox"
  },
  "language_info": {
   "codemirror_mode": {
    "name": "ipython",
    "version": 3
   },
   "file_extension": ".py",
   "mimetype": "text/x-python",
   "name": "python",
   "nbconvert_exporter": "python",
   "pygments_lexer": "ipython3",
   "version": "3.10.13"
  }
 },
 "nbformat": 4,
 "nbformat_minor": 5
}
