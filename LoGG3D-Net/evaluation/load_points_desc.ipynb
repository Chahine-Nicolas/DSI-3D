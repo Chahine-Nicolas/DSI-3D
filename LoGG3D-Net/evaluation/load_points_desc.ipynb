{
 "cells": [
  {
   "cell_type": "code",
   "execution_count": 1,
   "id": "049bf84e-64fb-4be4-90a9-4c9d86a5a876",
   "metadata": {},
   "outputs": [],
   "source": [
    "import torch\n",
    "import numpy as np\n"
   ]
  },
  {
   "cell_type": "code",
   "execution_count": 2,
   "id": "87f8460b-e649-424f-bdff-e856a147b09d",
   "metadata": {
    "scrolled": true
   },
   "outputs": [],
   "source": [
    "des = torch.load('/lustre/fsn1/worksf/projects/rech/dki/ujo91el/datas/datasets/sequences/00/logg_desc/000290.pt').to(device='cuda:0', dtype=torch.float32)"
   ]
  },
  {
   "cell_type": "code",
   "execution_count": 3,
   "id": "bda19ade-b237-4488-9d44-272b45f6f06c",
   "metadata": {},
   "outputs": [
    {
     "data": {
      "text/plain": [
       "(tensor(-0.0433, device='cuda:0', grad_fn=<MinBackward1>),\n",
       " tensor(0.2039, device='cuda:0', grad_fn=<MaxBackward1>),\n",
       " tensor(0.0379, device='cuda:0', grad_fn=<MeanBackward0>),\n",
       " tensor(0.0498, device='cuda:0', grad_fn=<StdBackward0>))"
      ]
     },
     "execution_count": 3,
     "metadata": {},
     "output_type": "execute_result"
    }
   ],
   "source": [
    "des.min(), des.max(), des.mean(), des.std()"
   ]
  },
  {
   "cell_type": "code",
   "execution_count": 4,
   "id": "dc964718-bc41-4c67-8b6d-1d6c3bfd9d17",
   "metadata": {},
   "outputs": [
    {
     "data": {
      "text/plain": [
       "LayerNorm((256,), eps=1e-05, elementwise_affine=True)"
      ]
     },
     "execution_count": 4,
     "metadata": {},
     "output_type": "execute_result"
    }
   ],
   "source": [
    "layer_norm = torch.nn.LayerNorm(256).to(device='cuda:0')\n",
    "# Activate module\n",
    "layer_norm"
   ]
  },
  {
   "cell_type": "code",
   "execution_count": 5,
   "id": "484dc258-1a96-4b98-867c-a8673adbb52d",
   "metadata": {},
   "outputs": [],
   "source": [
    "des2 = layer_norm(des)"
   ]
  },
  {
   "cell_type": "code",
   "execution_count": 6,
   "id": "793cca05-71e3-4cf7-80f0-55de1e0666ae",
   "metadata": {},
   "outputs": [
    {
     "data": {
      "text/plain": [
       "(tensor(-1.6302, device='cuda:0', grad_fn=<MinBackward1>),\n",
       " tensor(3.3332, device='cuda:0', grad_fn=<MaxBackward1>),\n",
       " tensor(-2.7940e-08, device='cuda:0', grad_fn=<MeanBackward0>),\n",
       " tensor(0.9999, device='cuda:0', grad_fn=<StdBackward0>))"
      ]
     },
     "execution_count": 6,
     "metadata": {},
     "output_type": "execute_result"
    }
   ],
   "source": [
    "des2.min(), des2.max(), des2.mean(), des2.std()"
   ]
  },
  {
   "cell_type": "code",
   "execution_count": 7,
   "id": "bc5f8bb0-2426-4708-b064-9708ae4a4bda",
   "metadata": {},
   "outputs": [
    {
     "data": {
      "text/plain": [
       "LayerNorm((256,), eps=1e-05, elementwise_affine=False)"
      ]
     },
     "execution_count": 7,
     "metadata": {},
     "output_type": "execute_result"
    }
   ],
   "source": [
    "layer_norm = torch.nn.LayerNorm(256, elementwise_affine=False).to(device='cuda:0')\n",
    "# Activate module\n",
    "layer_norm"
   ]
  },
  {
   "cell_type": "code",
   "execution_count": 8,
   "id": "b16a5c4b-6d08-4af6-8534-23750fa56ac6",
   "metadata": {},
   "outputs": [
    {
     "data": {
      "text/plain": [
       "(tensor(-1.6302, device='cuda:0', grad_fn=<MinBackward1>),\n",
       " tensor(3.3332, device='cuda:0', grad_fn=<MaxBackward1>),\n",
       " tensor(-2.7940e-08, device='cuda:0', grad_fn=<MeanBackward0>),\n",
       " tensor(0.9999, device='cuda:0', grad_fn=<StdBackward0>))"
      ]
     },
     "execution_count": 8,
     "metadata": {},
     "output_type": "execute_result"
    }
   ],
   "source": [
    "des2 = layer_norm(des)\n",
    "des2.min(), des2.max(), des2.mean(), des2.std()"
   ]
  },
  {
   "cell_type": "code",
   "execution_count": 12,
   "id": "fa5319bb-407a-419f-b9dd-ab331a0d007f",
   "metadata": {},
   "outputs": [],
   "source": [
    "xyzr = np.fromfile('/lustre/fsn1/worksf/projects/rech/dki/ujo91el/datas/datasets/sequences/00/velodyne/000290.bin', dtype=np.float32).reshape(-1, 4)"
   ]
  },
  {
   "cell_type": "code",
   "execution_count": 15,
   "id": "680ff3ea-22f9-445d-9f5e-bb1618e280bf",
   "metadata": {},
   "outputs": [
    {
     "data": {
      "text/plain": [
       "(array([[ 3.8649971e+01,  9.9893417e-03,  1.5159839e+00,  3.4000000e-01],\n",
       "        [ 3.8677593e+01,  1.3185932e-01,  1.5167881e+00,  2.3999999e-01],\n",
       "        [ 3.8978218e+01,  2.5472823e-01,  1.5265905e+00,  0.0000000e+00],\n",
       "        ...,\n",
       "        [ 3.8436596e+00, -1.4283494e+00, -1.7740752e+00,  3.1000000e-01],\n",
       "        [ 3.8612595e+00, -1.4213564e+00, -1.7810811e+00,  0.0000000e+00],\n",
       "        [ 3.9178958e+00, -1.4293467e+00, -1.8070652e+00,  0.0000000e+00]],\n",
       "       dtype=float32),\n",
       " (107769, 4))"
      ]
     },
     "execution_count": 15,
     "metadata": {},
     "output_type": "execute_result"
    }
   ],
   "source": [
    "xyzr, xyzr.shape"
   ]
  }
 ],
 "metadata": {
  "kernelspec": {
   "display_name": "sandbox",
   "language": "python",
   "name": "sandbox"
  },
  "language_info": {
   "codemirror_mode": {
    "name": "ipython",
    "version": 3
   },
   "file_extension": ".py",
   "mimetype": "text/x-python",
   "name": "python",
   "nbconvert_exporter": "python",
   "pygments_lexer": "ipython3",
   "version": "3.10.13"
  }
 },
 "nbformat": 4,
 "nbformat_minor": 5
}
