{
 "cells": [
  {
   "cell_type": "markdown",
   "id": "adefb52d-d7da-47e4-8f54-3ae4cfa9f5c1",
   "metadata": {},
   "source": [
    "# exemple faiss"
   ]
  },
  {
   "cell_type": "markdown",
   "id": "5dcca9f2-e311-454d-9e9a-cbdd5a298965",
   "metadata": {},
   "source": [
    "pip install faiss-gpu"
   ]
  },
  {
   "cell_type": "code",
   "execution_count": null,
   "id": "262753e7-5a0e-4865-832a-6f565233e917",
   "metadata": {
    "scrolled": true
   },
   "outputs": [
    {
     "name": "stdout",
     "output_type": "stream",
     "text": []
    },
    {
     "name": "stdout",
     "output_type": "stream",
     "text": []
    },
    {
     "name": "stdout",
     "output_type": "stream",
     "text": []
    },
    {
     "name": "stdout",
     "output_type": "stream",
     "text": []
    },
    {
     "name": "stdout",
     "output_type": "stream",
     "text": []
    },
    {
     "name": "stdout",
     "output_type": "stream",
     "text": []
    },
    {
     "name": "stdout",
     "output_type": "stream",
     "text": []
    },
    {
     "name": "stdout",
     "output_type": "stream",
     "text": []
    },
    {
     "name": "stdout",
     "output_type": "stream",
     "text": []
    },
    {
     "name": "stdout",
     "output_type": "stream",
     "text": []
    },
    {
     "name": "stdout",
     "output_type": "stream",
     "text": []
    },
    {
     "name": "stdout",
     "output_type": "stream",
     "text": []
    },
    {
     "name": "stdout",
     "output_type": "stream",
     "text": []
    },
    {
     "name": "stdout",
     "output_type": "stream",
     "text": []
    },
    {
     "name": "stdout",
     "output_type": "stream",
     "text": []
    },
    {
     "name": "stdout",
     "output_type": "stream",
     "text": []
    },
    {
     "name": "stdout",
     "output_type": "stream",
     "text": []
    },
    {
     "name": "stdout",
     "output_type": "stream",
     "text": []
    },
    {
     "name": "stdout",
     "output_type": "stream",
     "text": []
    },
    {
     "name": "stdout",
     "output_type": "stream",
     "text": []
    },
    {
     "name": "stdout",
     "output_type": "stream",
     "text": []
    },
    {
     "name": "stdout",
     "output_type": "stream",
     "text": []
    },
    {
     "name": "stdout",
     "output_type": "stream",
     "text": []
    },
    {
     "name": "stdout",
     "output_type": "stream",
     "text": []
    },
    {
     "name": "stdout",
     "output_type": "stream",
     "text": []
    },
    {
     "name": "stdout",
     "output_type": "stream",
     "text": []
    },
    {
     "name": "stdout",
     "output_type": "stream",
     "text": []
    },
    {
     "name": "stdout",
     "output_type": "stream",
     "text": []
    },
    {
     "name": "stdout",
     "output_type": "stream",
     "text": []
    },
    {
     "name": "stdout",
     "output_type": "stream",
     "text": []
    },
    {
     "name": "stdout",
     "output_type": "stream",
     "text": []
    },
    {
     "name": "stdout",
     "output_type": "stream",
     "text": []
    },
    {
     "name": "stdout",
     "output_type": "stream",
     "text": []
    },
    {
     "name": "stdout",
     "output_type": "stream",
     "text": []
    },
    {
     "name": "stdout",
     "output_type": "stream",
     "text": []
    },
    {
     "name": "stdout",
     "output_type": "stream",
     "text": []
    },
    {
     "name": "stdout",
     "output_type": "stream",
     "text": []
    },
    {
     "name": "stdout",
     "output_type": "stream",
     "text": []
    },
    {
     "name": "stdout",
     "output_type": "stream",
     "text": []
    },
    {
     "name": "stdout",
     "output_type": "stream",
     "text": []
    },
    {
     "name": "stdout",
     "output_type": "stream",
     "text": []
    },
    {
     "name": "stdout",
     "output_type": "stream",
     "text": []
    },
    {
     "name": "stdout",
     "output_type": "stream",
     "text": []
    },
    {
     "name": "stdout",
     "output_type": "stream",
     "text": []
    },
    {
     "name": "stdout",
     "output_type": "stream",
     "text": []
    },
    {
     "name": "stdout",
     "output_type": "stream",
     "text": []
    },
    {
     "name": "stdout",
     "output_type": "stream",
     "text": []
    },
    {
     "name": "stdout",
     "output_type": "stream",
     "text": []
    },
    {
     "name": "stdout",
     "output_type": "stream",
     "text": []
    },
    {
     "name": "stdout",
     "output_type": "stream",
     "text": []
    },
    {
     "name": "stdout",
     "output_type": "stream",
     "text": []
    },
    {
     "name": "stdout",
     "output_type": "stream",
     "text": []
    },
    {
     "name": "stdout",
     "output_type": "stream",
     "text": []
    },
    {
     "name": "stdout",
     "output_type": "stream",
     "text": []
    },
    {
     "name": "stdout",
     "output_type": "stream",
     "text": []
    },
    {
     "name": "stdout",
     "output_type": "stream",
     "text": []
    },
    {
     "name": "stdout",
     "output_type": "stream",
     "text": []
    },
    {
     "name": "stdout",
     "output_type": "stream",
     "text": []
    },
    {
     "name": "stdout",
     "output_type": "stream",
     "text": []
    },
    {
     "name": "stdout",
     "output_type": "stream",
     "text": []
    },
    {
     "name": "stdout",
     "output_type": "stream",
     "text": []
    },
    {
     "name": "stdout",
     "output_type": "stream",
     "text": []
    },
    {
     "name": "stdout",
     "output_type": "stream",
     "text": []
    },
    {
     "name": "stdout",
     "output_type": "stream",
     "text": []
    },
    {
     "name": "stdout",
     "output_type": "stream",
     "text": []
    },
    {
     "name": "stdout",
     "output_type": "stream",
     "text": []
    },
    {
     "name": "stdout",
     "output_type": "stream",
     "text": []
    },
    {
     "name": "stdout",
     "output_type": "stream",
     "text": []
    },
    {
     "name": "stdout",
     "output_type": "stream",
     "text": []
    },
    {
     "name": "stdout",
     "output_type": "stream",
     "text": []
    },
    {
     "name": "stdout",
     "output_type": "stream",
     "text": []
    },
    {
     "name": "stdout",
     "output_type": "stream",
     "text": []
    },
    {
     "name": "stdout",
     "output_type": "stream",
     "text": []
    },
    {
     "name": "stdout",
     "output_type": "stream",
     "text": []
    },
    {
     "name": "stdout",
     "output_type": "stream",
     "text": []
    },
    {
     "name": "stdout",
     "output_type": "stream",
     "text": []
    },
    {
     "name": "stdout",
     "output_type": "stream",
     "text": []
    },
    {
     "name": "stdout",
     "output_type": "stream",
     "text": []
    },
    {
     "name": "stdout",
     "output_type": "stream",
     "text": []
    },
    {
     "name": "stdout",
     "output_type": "stream",
     "text": []
    },
    {
     "name": "stdout",
     "output_type": "stream",
     "text": []
    },
    {
     "name": "stdout",
     "output_type": "stream",
     "text": []
    },
    {
     "name": "stdout",
     "output_type": "stream",
     "text": []
    },
    {
     "name": "stdout",
     "output_type": "stream",
     "text": []
    },
    {
     "name": "stdout",
     "output_type": "stream",
     "text": []
    },
    {
     "name": "stdout",
     "output_type": "stream",
     "text": []
    },
    {
     "name": "stdout",
     "output_type": "stream",
     "text": []
    },
    {
     "name": "stdout",
     "output_type": "stream",
     "text": []
    },
    {
     "name": "stdout",
     "output_type": "stream",
     "text": []
    },
    {
     "name": "stdout",
     "output_type": "stream",
     "text": []
    },
    {
     "name": "stdout",
     "output_type": "stream",
     "text": []
    },
    {
     "name": "stdout",
     "output_type": "stream",
     "text": []
    },
    {
     "name": "stdout",
     "output_type": "stream",
     "text": []
    },
    {
     "name": "stdout",
     "output_type": "stream",
     "text": []
    },
    {
     "name": "stdout",
     "output_type": "stream",
     "text": []
    },
    {
     "name": "stdout",
     "output_type": "stream",
     "text": []
    },
    {
     "name": "stdout",
     "output_type": "stream",
     "text": []
    },
    {
     "name": "stdout",
     "output_type": "stream",
     "text": []
    },
    {
     "name": "stdout",
     "output_type": "stream",
     "text": []
    },
    {
     "name": "stdout",
     "output_type": "stream",
     "text": []
    },
    {
     "name": "stdout",
     "output_type": "stream",
     "text": []
    },
    {
     "name": "stdout",
     "output_type": "stream",
     "text": []
    },
    {
     "name": "stdout",
     "output_type": "stream",
     "text": []
    },
    {
     "name": "stdout",
     "output_type": "stream",
     "text": []
    },
    {
     "name": "stdout",
     "output_type": "stream",
     "text": []
    },
    {
     "name": "stdout",
     "output_type": "stream",
     "text": []
    },
    {
     "name": "stdout",
     "output_type": "stream",
     "text": []
    },
    {
     "name": "stdout",
     "output_type": "stream",
     "text": []
    },
    {
     "name": "stdout",
     "output_type": "stream",
     "text": []
    },
    {
     "name": "stdout",
     "output_type": "stream",
     "text": []
    },
    {
     "name": "stdout",
     "output_type": "stream",
     "text": []
    },
    {
     "name": "stdout",
     "output_type": "stream",
     "text": []
    },
    {
     "name": "stdout",
     "output_type": "stream",
     "text": []
    },
    {
     "name": "stdout",
     "output_type": "stream",
     "text": []
    },
    {
     "name": "stdout",
     "output_type": "stream",
     "text": []
    },
    {
     "name": "stdout",
     "output_type": "stream",
     "text": []
    },
    {
     "name": "stdout",
     "output_type": "stream",
     "text": []
    },
    {
     "name": "stdout",
     "output_type": "stream",
     "text": []
    },
    {
     "name": "stdout",
     "output_type": "stream",
     "text": []
    },
    {
     "name": "stdout",
     "output_type": "stream",
     "text": []
    },
    {
     "name": "stdout",
     "output_type": "stream",
     "text": []
    },
    {
     "name": "stdout",
     "output_type": "stream",
     "text": []
    },
    {
     "name": "stdout",
     "output_type": "stream",
     "text": []
    },
    {
     "name": "stdout",
     "output_type": "stream",
     "text": []
    },
    {
     "name": "stdout",
     "output_type": "stream",
     "text": []
    },
    {
     "name": "stdout",
     "output_type": "stream",
     "text": []
    },
    {
     "name": "stdout",
     "output_type": "stream",
     "text": []
    },
    {
     "name": "stdout",
     "output_type": "stream",
     "text": []
    },
    {
     "name": "stdout",
     "output_type": "stream",
     "text": []
    },
    {
     "name": "stdout",
     "output_type": "stream",
     "text": []
    },
    {
     "name": "stdout",
     "output_type": "stream",
     "text": []
    },
    {
     "name": "stdout",
     "output_type": "stream",
     "text": []
    },
    {
     "name": "stdout",
     "output_type": "stream",
     "text": []
    },
    {
     "name": "stdout",
     "output_type": "stream",
     "text": []
    },
    {
     "name": "stdout",
     "output_type": "stream",
     "text": []
    },
    {
     "name": "stdout",
     "output_type": "stream",
     "text": []
    },
    {
     "name": "stdout",
     "output_type": "stream",
     "text": []
    },
    {
     "name": "stdout",
     "output_type": "stream",
     "text": []
    },
    {
     "name": "stdout",
     "output_type": "stream",
     "text": []
    },
    {
     "name": "stdout",
     "output_type": "stream",
     "text": []
    },
    {
     "name": "stdout",
     "output_type": "stream",
     "text": []
    },
    {
     "name": "stdout",
     "output_type": "stream",
     "text": []
    },
    {
     "name": "stdout",
     "output_type": "stream",
     "text": []
    },
    {
     "name": "stdout",
     "output_type": "stream",
     "text": []
    },
    {
     "name": "stdout",
     "output_type": "stream",
     "text": []
    },
    {
     "name": "stdout",
     "output_type": "stream",
     "text": []
    },
    {
     "name": "stdout",
     "output_type": "stream",
     "text": []
    },
    {
     "name": "stdout",
     "output_type": "stream",
     "text": []
    },
    {
     "name": "stdout",
     "output_type": "stream",
     "text": []
    },
    {
     "name": "stdout",
     "output_type": "stream",
     "text": []
    },
    {
     "name": "stdout",
     "output_type": "stream",
     "text": []
    },
    {
     "name": "stdout",
     "output_type": "stream",
     "text": []
    },
    {
     "name": "stdout",
     "output_type": "stream",
     "text": []
    },
    {
     "name": "stdout",
     "output_type": "stream",
     "text": []
    },
    {
     "name": "stdout",
     "output_type": "stream",
     "text": []
    },
    {
     "name": "stdout",
     "output_type": "stream",
     "text": []
    },
    {
     "name": "stdout",
     "output_type": "stream",
     "text": [
      "Package                           Version\n",
      "--------------------------------- --------------------\n",
      "absl-py                           1.0.0\n",
      "accelerate                        0.5.1\n",
      "addict                            2.4.0\n",
      "aiohttp                           3.8.1\n",
      "aiosignal                         1.2.0\n",
      "alabaster                         0.7.12\n",
      "albumentations                    1.3.0\n",
      "allennlp                          2.9.0\n",
      "antlr4-python3-runtime            4.8\n",
      "anyio                             3.5.0\n",
      "apex                              0.1\n",
      "appdirs                           1.4.4\n",
      "argon2-cffi                       21.3.0\n",
      "argon2-cffi-bindings              21.2.0\n",
      "arrow                             1.2.2\n",
      "assertpy                          1.1\n",
      "astroid                           2.9.3\n",
      "astropy                           5.0.1\n",
      "asttokens                         2.0.5\n",
      "astunparse                        1.6.3\n",
      "async-timeout                     4.0.2\n",
      "atomicwrites                      1.4.0\n",
      "attrs                             21.4.0\n",
      "audioread                         3.0.0\n",
      "autopep8                          1.6.0\n",
      "av                                8.1.0\n",
      "awscli                            1.21.12\n",
      "Babel                             2.9.1\n",
      "backcall                          0.2.0\n",
      "backports.csv                     1.0.7\n",
      "backports.functools-lru-cache     1.6.4\n",
      "backports.os                      0.1.1\n",
      "base58                            2.1.1\n",
      "bcrypt                            3.2.0\n",
      "beautifulsoup4                    4.11.1\n",
      "binaryornot                       0.4.4\n",
      "biopython                         1.79\n",
      "bitarray                          2.3.6\n",
      "bkcharts                          0.2\n",
      "black                             22.3.0\n",
      "bleach                            5.0.0\n",
      "blis                              0.7.6\n",
      "bokeh                             2.4.2\n",
      "boto                              2.49.0\n",
      "boto3                             1.19.12\n",
      "botocore                          1.22.12\n",
      "braceexpand                       0.1.7\n",
      "brotlipy                          0.7.0\n",
      "cached-path                       1.0.2\n",
      "cachetools                        5.0.0\n",
      "catalogue                         2.0.6\n",
      "ccimport                          0.3.7\n",
      "certifi                           2021.10.8\n",
      "cffi                              1.15.0\n",
      "chardet                           4.0.0\n",
      "charset-normalizer                2.0.12\n",
      "checklist                         0.0.11\n",
      "cheroot                           8.6.0\n",
      "CherryPy                          18.6.1\n",
      "click                             8.0.4\n",
      "cloudpickle                       2.0.0\n",
      "colorama                          0.4.3\n",
      "colorlog                          6.6.0\n",
      "commonmark                        0.9.1\n",
      "conda                             4.11.0\n",
      "conda-build                       3.21.8\n",
      "conda-package-handling            1.7.3\n",
      "cookiecutter                      1.7.3\n",
      "cryptography                      36.0.1\n",
      "cumm-cu111                        0.2.8\n",
      "cupy-cuda112                      10.1.0\n",
      "cycler                            0.11.0\n",
      "cymem                             2.0.6\n",
      "Cython                            0.29.28\n",
      "cytoolz                           0.11.2\n",
      "dask                              2021.10.0\n",
      "dask-jobqueue                     0.7.3\n",
      "dataclasses                       0.8\n",
      "debugpy                           1.6.0\n",
      "decorator                         5.1.1\n",
      "deepspeed                         0.5.10\n",
      "defusedxml                        0.7.1\n",
      "Deprecated                        1.2.13\n",
      "deprecation                       2.1.0\n",
      "diff-match-patch                  20200713\n",
      "dill                              0.3.4\n",
      "distarray                         0.6.0\n",
      "distributed                       2021.10.0\n",
      "dlib                              19.23.0\n",
      "docker-pycreds                    0.4.0\n",
      "docopt                            0.6.2\n",
      "docutils                          0.15.2\n",
      "eagerpy                           0.29.0\n",
      "editdistance                      0.6.0\n",
      "efficientnet-pytorch              0.6.3\n",
      "einops                            0.4.0\n",
      "entrypoints                       0.4\n",
      "executing                         0.8.3\n",
      "fabric                            2.6.0\n",
      "fairscale                         0.4.5\n",
      "fairseq                           0.10.0\n",
      "fastargs                          1.2.0\n",
      "fastjsonschema                    2.15.3\n",
      "fastkml                           0.12\n",
      "fastrlock                         0.8\n",
      "feedparser                        6.0.8\n",
      "ffcv                              0.0.3\n",
      "filelock                          3.4.2\n",
      "filetype                          1.0.10\n",
      "fire                              0.4.0\n",
      "flake8                            4.0.1\n",
      "Flask                             2.0.3\n",
      "flatbuffers                       2.0\n",
      "flit_core                         3.6.0\n",
      "fonttools                         4.29.1\n",
      "foolbox                           3.3.1\n",
      "frozenlist                        1.3.0\n",
      "fsspec                            2022.1.0\n",
      "future                            0.18.2\n",
      "fvcore                            0.1.5\n",
      "gitdb                             4.0.9\n",
      "GitPython                         3.1.27\n",
      "glob2                             0.7\n",
      "gmpy2                             2.1.2\n",
      "google-api-core                   2.5.0\n",
      "google-auth                       2.6.0\n",
      "google-auth-oauthlib              0.4.6\n",
      "google-cloud-core                 2.2.2\n",
      "google-cloud-storage              1.44.0\n",
      "google-crc32c                     1.3.0\n",
      "google-resumable-media            2.2.1\n",
      "googleapis-common-protos          1.54.0\n",
      "googledrivedownloader             0.4\n",
      "graphviz                          0.19.1\n",
      "grpcio                            1.44.0\n",
      "guppy3                            3.1.0\n",
      "h5py                              3.6.0\n",
      "HeapDict                          1.0.1\n",
      "hjson                             3.0.2\n",
      "horovod                           0.23.0\n",
      "huggingface-hub                   0.2.1\n",
      "humanize                          4.0.0\n",
      "hydra-core                        1.1.1\n",
      "HyperPyYAML                       1.0.0\n",
      "idna                              3.3\n",
      "igl                               2.2.1\n",
      "imageio                           2.16.0\n",
      "imagesize                         1.3.0\n",
      "imbalanced-learn                  0.9.0\n",
      "imgcat                            0.5.0\n",
      "importlib-metadata                4.11.1\n",
      "importlib-resources               5.4.0\n",
      "imutils                           0.5.4\n",
      "inflection                        0.5.1\n",
      "iniconfig                         1.1.1\n",
      "intervaltree                      3.1.0\n",
      "invoke                            1.6.0\n",
      "iopath                            0.1.9\n",
      "ipykernel                         6.13.0\n",
      "ipyparallel                       8.2.0\n",
      "ipython                           8.0.1\n",
      "ipython-genutils                  0.2.0\n",
      "ipywidgets                        7.7.0\n",
      "iso-639                           0.4.5\n",
      "isodate                           0.6.1\n",
      "isort                             5.10.1\n",
      "itsdangerous                      2.1.0\n",
      "jaraco.classes                    3.2.1\n",
      "jaraco.collections                3.5.1\n",
      "jaraco.context                    4.1.1\n",
      "jaraco.functools                  3.5.0\n",
      "jaraco.text                       3.7.0\n",
      "jax                               0.3.1\n",
      "jaxlib                            0.3.0+cuda11.cudnn82\n",
      "jedi                              0.18.1\n",
      "jeepney                           0.7.1\n",
      "jellyfish                         0.9.0\n",
      "Jinja2                            3.1.1\n",
      "jinja2-time                       0.2.0\n",
      "jmespath                          0.10.0\n",
      "joblib                            1.1.0\n",
      "json5                             0.9.6\n",
      "jsonnet                           0.18.0\n",
      "jsonschema                        4.4.0\n",
      "jupyter                           1.0.0\n",
      "jupyter-client                    7.2.2\n",
      "jupyter-console                   6.4.3\n",
      "jupyter-contrib-core              0.3.3\n",
      "jupyter-core                      4.10.0\n",
      "jupyter-nbextensions-configurator 0.4.1\n",
      "jupyter-packaging                 0.11.1\n",
      "jupyter-server                    1.13.5\n",
      "jupyter-tensorboard               0.2.0\n",
      "jupyterlab                        3.2.9\n",
      "jupyterlab-pygments               0.2.2\n",
      "jupyterlab-server                 2.10.3\n",
      "jupyterlab-tensorboard            0.2.1\n",
      "jupyterlab-widgets                1.1.0\n",
      "keyring                           23.5.0\n",
      "kiwisolver                        1.3.2\n",
      "kornia                            0.6.3\n",
      "langcodes                         3.3.0\n",
      "lapjv                             1.3.14\n",
      "lark                              1.1.1\n",
      "lazy-object-proxy                 1.7.1\n",
      "libarchive-c                      4.0\n",
      "librosa                           0.9.2\n",
      "lief                              0.11.5\n",
      "llvmlite                          0.38.0\n",
      "lmdb                              1.3.0\n",
      "locket                            0.2.1\n",
      "loguru                            0.6.0\n",
      "lxml                              4.8.0\n",
      "Markdown                          3.3.6\n",
      "MarkupSafe                        2.1.1\n",
      "matplotlib                        3.5.1\n",
      "matplotlib-inline                 0.1.3\n",
      "mccabe                            0.6.1\n",
      "MinkowskiEngine                   0.5.4\n",
      "mistune                           0.8.4\n",
      "mkl-fft                           1.3.1\n",
      "mkl-random                        1.2.2\n",
      "mkl-service                       2.4.0\n",
      "mlconfig                          0.1.0\n",
      "mmcv-full                         1.7.0\n",
      "mock                              4.0.3\n",
      "monai                             0.8.1\n",
      "more-itertools                    8.12.0\n",
      "moses                             0.10.0\n",
      "mosestokenizer                    1.2.1\n",
      "mpi4py                            3.1.3\n",
      "mpmath                            1.2.1\n",
      "msgpack                           1.0.3\n",
      "msgpack-numpy                     0.4.8\n",
      "multidict                         6.0.2\n",
      "multimethod                       1.9.1\n",
      "multipledispatch                  0.6.0\n",
      "munch                             2.5.0\n",
      "murmurhash                        1.0.6\n",
      "mypy-extensions                   0.4.3\n",
      "nb-conda-kernels                  2.3.1\n",
      "nbclassic                         0.3.5\n",
      "nbclient                          0.6.0\n",
      "nbconvert                         6.5.0\n",
      "nbformat                          5.3.0\n",
      "nest-asyncio                      1.5.5\n",
      "networkx                          2.6.3\n",
      "nibabel                           3.2.2\n",
      "ninja                             1.10.2.3\n",
      "nltk                              3.6.5\n",
      "notebook                          6.4.11\n",
      "numba                             0.55.1\n",
      "numpy                             1.21.2\n",
      "numpydoc                          1.2\n",
      "nvidia-dali-cuda110               1.10.0\n",
      "nvidia-dlprof                     1.8.0\n",
      "nvidia-dlprof-pytorch-nvtx        1.8.0\n",
      "nvidia-ml-py                      11.515.0\n",
      "nvidia-nsys-cli                   2021.3.2.12\n",
      "oauthlib                          3.2.0\n",
      "olefile                           0.46\n",
      "omegaconf                         2.1.1\n",
      "open3d                            0.15.2\n",
      "opencv-contrib-python             4.5.5.62\n",
      "opencv-python                     4.6.0.66\n",
      "openfile                          0.0.7\n",
      "opt-einsum                        3.3.0\n",
      "packaging                         21.3\n",
      "pafit                             2.0.7\n",
      "pandas                            1.4.1\n",
      "pandocfilters                     1.5.0\n",
      "parameterized                     0.8.1\n",
      "paramiko                          2.9.2\n",
      "parso                             0.8.3\n",
      "partd                             1.2.0\n",
      "pathlib2                          2.3.7.post1\n",
      "pathspec                          0.9.0\n",
      "pathtools                         0.1.2\n",
      "pathy                             0.6.1\n",
      "patternfork-nosql                 3.6\n",
      "pccm                              0.3.4\n",
      "pdfminer.six                      20211012\n",
      "pexpect                           4.8.0\n",
      "pickleshare                       0.7.5\n",
      "Pillow                            9.0.1\n",
      "pip                               22.0.3\n",
      "pkginfo                           1.8.2\n",
      "platformdirs                      2.5.2\n",
      "plotbin                           3.1.3\n",
      "plotly                            5.6.0\n",
      "pluggy                            1.0.0\n",
      "plyfile                           0.7.4\n",
      "pooch                             1.6.0\n",
      "portalocker                       2.4.0\n",
      "portend                           3.1.0\n",
      "potpourri3d                       0.0.7\n",
      "poyo                              0.5.0\n",
      "preshed                           3.0.6\n",
      "pretrainedmodels                  0.7.4\n",
      "prometheus-client                 0.14.1\n",
      "promise                           2.3\n",
      "prompt-toolkit                    3.0.29\n",
      "protobuf                          3.19.4\n",
      "psutil                            5.9.0\n",
      "ptyprocess                        0.7.0\n",
      "pure-eval                         0.2.2\n",
      "py                                1.11.0\n",
      "py-cpuinfo                        8.0.0\n",
      "pyasn1                            0.4.8\n",
      "pyasn1-modules                    0.2.8\n",
      "pybboxes                          0.1.3\n",
      "pybind11                          2.9.1\n",
      "pybind11-global                   2.9.1\n",
      "pycodestyle                       2.8.0\n",
      "pycollada                         0.7.2\n",
      "pyconll                           3.1.0\n",
      "pycosat                           0.6.3\n",
      "pycparser                         2.21\n",
      "pycrypto                          2.6.1\n",
      "pycurl                            7.44.1\n",
      "pydantic                          1.8.2\n",
      "pyDeprecate                       0.3.1\n",
      "pydocstyle                        6.1.1\n",
      "pyerfa                            2.0.0.1\n",
      "pyflakes                          2.4.0\n",
      "pygeoif                           0.7\n",
      "pyglet                            1.5.22\n",
      "Pygments                          2.11.2\n",
      "pygraphviz                        1.9\n",
      "pylint                            2.12.2\n",
      "pyls-spyder                       0.4.0\n",
      "PyNaCl                            1.5.0\n",
      "pyodbc                            4.0.32\n",
      "pyOpenSSL                         22.0.0\n",
      "pyparsing                         3.0.8\n",
      "pyproj                            3.3.0\n",
      "PyQt5                             5.12.3\n",
      "PyQt5-sip                         12.9.1\n",
      "PyQtWebEngine                     5.12.1\n",
      "pyquaternion                      0.9.9\n",
      "pyrsistent                        0.18.1\n",
      "PySocks                           1.7.1\n",
      "pytest                            7.0.1\n",
      "python-dateutil                   2.8.2\n",
      "python-docx                       0.8.11\n",
      "python-hostlist                   1.21\n",
      "python-louvain                    0.16\n",
      "python-lsp-black                  1.1.0\n",
      "python-lsp-jsonrpc                1.0.0\n",
      "python-lsp-server                 1.3.3\n",
      "python-slugify                    6.0.1\n",
      "pytorch-fast-transformers         0.4.0\n",
      "pytorch-ignite                    0.4.8\n",
      "pytorch-lightning                 1.5.10\n",
      "pytorch-pfn-extras                0.6.2\n",
      "pytorch3d                         0.6.1\n",
      "pytorchvideo                      0.1.5\n",
      "pytz                              2021.3\n",
      "PyWavelets                        1.2.0\n",
      "pyxdg                             0.27\n",
      "PyYAML                            5.4.1\n",
      "pyzmq                             22.3.0\n",
      "QDarkStyle                        3.0.2\n",
      "qstylizer                         0.2.1\n",
      "QtAwesome                         1.1.1\n",
      "qtconsole                         5.2.2\n",
      "QtPy                              2.0.1\n",
      "qudida                            0.0.4\n",
      "rawpy                             0.17.0\n",
      "ray                               1.10.0\n",
      "rdflib                            6.1.1\n",
      "redis                             4.1.4\n",
      "regex                             2022.1.18\n",
      "requests                          2.27.1\n",
      "requests-oauthlib                 1.3.1\n",
      "resampy                           0.4.2\n",
      "rich                              11.2.0\n",
      "robust-laplacian                  0.2.4\n",
      "rope                              0.22.0\n",
      "rsa                               4.7.2\n",
      "Rtree                             0.9.7\n",
      "ruamel.yaml                       0.17.21\n",
      "ruamel.yaml.clib                  0.2.6\n",
      "ruamel-yaml-conda                 0.15.100\n",
      "s3transfer                        0.5.1\n",
      "sacrebleu                         2.0.0\n",
      "sacremoses                        0.0.46\n",
      "sahi                              0.10.1\n",
      "scalene                           1.5.4\n",
      "scikit-image                      0.18.3\n",
      "scikit-learn                      1.0.1\n",
      "scipy                             1.7.1\n",
      "seaborn                           0.11.2\n",
      "SecretStorage                     3.3.1\n",
      "segmentation-models-pytorch       0.2.1\n",
      "Send2Trash                        1.8.0\n",
      "sentence-transformers             2.2.0\n",
      "sentencepiece                     0.1.96\n",
      "sentry-sdk                        1.5.6\n",
      "setuptools                        59.5.0\n",
      "sgmllib3k                         1.0.0\n",
      "shap                              0.40.0\n",
      "Shapely                           1.8.0\n",
      "shellingham                       1.4.0\n",
      "shortuuid                         1.0.8\n",
      "simplegeneric                     0.8.1\n",
      "SimpleITK                         2.1.1\n",
      "simplejson                        3.17.6\n",
      "singledispatch                    3.7.0\n",
      "six                               1.16.0\n",
      "sklearn                           0.0.post1\n",
      "slicer                            0.0.7\n",
      "smart-open                        5.2.1\n",
      "smmap                             5.0.0\n",
      "sniffio                           1.2.0\n",
      "snowballstemmer                   2.2.0\n",
      "sortedcontainers                  2.4.0\n",
      "soundfile                         0.11.0\n",
      "soupsieve                         2.3.2.post1\n",
      "sox                               1.4.1\n",
      "spacy                             3.2.2\n",
      "spacy-legacy                      3.0.8\n",
      "spacy-loggers                     1.0.1\n",
      "spatialite                        0.0.3\n",
      "spconv-cu111                      2.1.21\n",
      "speechbrain                       0.5.11\n",
      "Sphinx                            4.4.0\n",
      "sphinxcontrib-applehelp           1.0.2\n",
      "sphinxcontrib-devhelp             1.0.2\n",
      "sphinxcontrib-htmlhelp            2.0.0\n",
      "sphinxcontrib-jsmath              1.0.1\n",
      "sphinxcontrib-qthelp              1.0.3\n",
      "sphinxcontrib-serializinghtml     1.1.5\n",
      "sphinxcontrib-websupport          1.2.4\n",
      "spyder                            5.2.2\n",
      "spyder-kernels                    2.2.1\n",
      "srsly                             2.4.2\n",
      "stack-data                        0.2.0\n",
      "svg.path                          4.1\n",
      "sympy                             1.9\n",
      "tabulate                          0.8.9\n",
      "tblib                             1.7.0\n",
      "tempora                           5.0.1\n",
      "tenacity                          8.0.1\n",
      "tensorboard                       2.8.0\n",
      "tensorboard-data-server           0.6.1\n",
      "tensorboard-plugin-wit            1.8.1\n",
      "tensorboardX                      2.5\n",
      "tensorpack                        0.11\n",
      "termcolor                         1.1.0\n",
      "terminado                         0.13.3\n",
      "terminaltables                    3.1.10\n",
      "testpath                          0.5.0\n",
      "text-unidecode                    1.3\n",
      "textdistance                      4.2.2\n",
      "thinc                             8.0.13\n",
      "thop                              0.1.1.post2207130030\n",
      "threadpoolctl                     3.1.0\n",
      "three-merge                       0.1.1\n",
      "tifffile                          2022.2.9\n",
      "timm                              0.4.12\n",
      "tinycss2                          1.1.1\n",
      "tokenizers                        0.10.3\n",
      "toml                              0.10.2\n",
      "tomli                             2.0.1\n",
      "tomlkit                           0.10.1\n",
      "toolwrapper                       2.1.0\n",
      "toolz                             0.11.2\n",
      "torch                             1.10.0a0+git302ee7b\n",
      "torch-cluster                     1.5.9\n",
      "torch-geometric                   2.0.3\n",
      "torch-points-kernels              0.7.0\n",
      "torch-scatter                     2.0.9\n",
      "torch-sparse                      0.6.12\n",
      "torch-spline-conv                 1.2.1\n",
      "torch-tb-profiler                 0.3.1\n",
      "torchaudio                        0.10.1+4b64f80\n",
      "torchio                           0.18.73\n",
      "torchmetrics                      0.7.2\n",
      "torchpack                         0.3.1\n",
      "torchsparse                       1.4.0\n",
      "torchtext                         0.11.0a0+5c65ec0\n",
      "torchvision                       0.11.0a0+e7ec7e2\n",
      "torchviz                          0.0.2\n",
      "tornado                           6.1\n",
      "tqdm                              4.62.3\n",
      "traitlets                         5.1.1\n",
      "transformers                      4.15.0\n",
      "trimesh                           3.10.5\n",
      "triton                            1.0.0\n",
      "typed-ast                         1.5.2\n",
      "typer                             0.4.0\n",
      "typing_extensions                 4.2.0\n",
      "uctools                           1.3.0\n",
      "ujson                             5.1.0\n",
      "urllib3                           1.26.9\n",
      "wandb                             0.12.10\n",
      "wasabi                            0.9.0\n",
      "watchdog                          2.1.6\n",
      "wcwidth                           0.2.5\n",
      "webdataset                        0.2.30\n",
      "webencodings                      0.5.1\n",
      "websocket-client                  1.2.3\n",
      "Werkzeug                          2.0.3\n",
      "wheel                             0.37.1\n",
      "widgetsnbextension                3.6.0\n",
      "wrapt                             1.13.3\n",
      "wurlitzer                         3.0.2\n",
      "xarray                            0.21.1\n",
      "xeus-python                       0.13.6\n",
      "xeus-python-shell                 0.2.0\n",
      "xgboost                           1.5.2\n",
      "XlsxWriter                        3.0.2\n",
      "xlwt                              1.3.0\n",
      "xmltodict                         0.12.0\n",
      "xxhash                            3.0.0\n",
      "yacs                              0.1.8\n",
      "yapf                              0.32.0\n",
      "yarl                              1.7.2\n",
      "yaspin                            2.1.0\n",
      "yolo34py                          0.2\n",
      "yolov5                            6.1.6\n",
      "zc.lockfile                       2.0\n",
      "zict                              2.0.0\n",
      "zipp                              3.7.0\n"
     ]
    }
   ],
   "source": [
    "pip list"
   ]
  },
  {
   "cell_type": "code",
   "execution_count": 4,
   "id": "5b211889-e6cc-4664-94e3-9b788432a8a4",
   "metadata": {},
   "outputs": [
    {
     "name": "stdout",
     "output_type": "stream",
     "text": [
      "Nearest neighbors' indices: [[40007 18418 20088 67026 77215]]\n",
      "Hamming distances: [[4 5 5 5 5]]\n"
     ]
    }
   ],
   "source": [
    "import faiss\n",
    "import numpy as np\n",
    "\n",
    "# Define parameters\n",
    "d = 256      # Vector dimension (bits)\n",
    "N = 100000   # Number of binary vectors\n",
    "\n",
    "# Generate random binary dataset (values are 0 or 1)\n",
    "data = np.random.randint(2, size=(N, d // 8), dtype='uint8')  # Store as bytes\n",
    "\n",
    "# Create a binary flat index\n",
    "index = faiss.IndexBinaryFlat(d)\n",
    "\n",
    "# Add data to the index\n",
    "index.add(data)\n",
    "\n",
    "# Query a random binary vector\n",
    "query = np.random.randint(2, size=(1, d // 8), dtype='uint8')\n",
    "\n",
    "# Perform search\n",
    "D, I = index.search(query, 5)  # Find 5 nearest neighbors\n",
    "\n",
    "print(\"Nearest neighbors' indices:\", I)\n",
    "print(\"Hamming distances:\", D)\n"
   ]
  },
  {
   "cell_type": "code",
   "execution_count": 3,
   "id": "baadd54d-2922-4f59-a26c-3f380e560f83",
   "metadata": {},
   "outputs": [
    {
     "ename": "TypeError",
     "evalue": "Input argument codes must be ndarray of dtype  uint8, but found float32",
     "output_type": "error",
     "traceback": [
      "\u001b[0;31m---------------------------------------------------------------------------\u001b[0m",
      "\u001b[0;31mTypeError\u001b[0m                                 Traceback (most recent call last)",
      "Cell \u001b[0;32mIn[3], line 18\u001b[0m\n\u001b[1;32m     12\u001b[0m index \u001b[38;5;241m=\u001b[39m faiss\u001b[38;5;241m.\u001b[39mIndexBinaryFlat(D)\n\u001b[1;32m     14\u001b[0m \u001b[38;5;66;03m# https://github.com/facebookresearch/faiss/wiki/Faiss-indexes/1f721de164ae7950c65914d2dde0865312584a36\u001b[39;00m\n\u001b[1;32m     15\u001b[0m \n\u001b[1;32m     16\u001b[0m \n\u001b[1;32m     17\u001b[0m \u001b[38;5;66;03m# Add vectors to the index\u001b[39;00m\n\u001b[0;32m---> 18\u001b[0m \u001b[43mindex\u001b[49m\u001b[38;5;241;43m.\u001b[39;49m\u001b[43madd\u001b[49m\u001b[43m(\u001b[49m\u001b[43mdata\u001b[49m\u001b[43m)\u001b[49m\n\u001b[1;32m     20\u001b[0m \u001b[38;5;66;03m# Query\u001b[39;00m\n\u001b[1;32m     21\u001b[0m \u001b[38;5;66;03m#query = np.random.random((1, D)).astype('float32')\u001b[39;00m\n\u001b[1;32m     22\u001b[0m query \u001b[38;5;241m=\u001b[39m np\u001b[38;5;241m.\u001b[39mexpand_dims(data[\u001b[38;5;241m100\u001b[39m], \u001b[38;5;241m0\u001b[39m)\n",
      "File \u001b[0;32m~/.conda/envs/sandbox/lib/python3.10/site-packages/faiss/class_wrappers.py:838\u001b[0m, in \u001b[0;36mhandle_IndexBinary.<locals>.replacement_add\u001b[0;34m(self, x)\u001b[0m\n\u001b[1;32m    836\u001b[0m \u001b[38;5;28;01mdef\u001b[39;00m \u001b[38;5;21mreplacement_add\u001b[39m(\u001b[38;5;28mself\u001b[39m, x):\n\u001b[1;32m    837\u001b[0m     n, d \u001b[38;5;241m=\u001b[39m x\u001b[38;5;241m.\u001b[39mshape\n\u001b[0;32m--> 838\u001b[0m     x \u001b[38;5;241m=\u001b[39m \u001b[43m_check_dtype_uint8\u001b[49m\u001b[43m(\u001b[49m\u001b[43mx\u001b[49m\u001b[43m)\u001b[49m\n\u001b[1;32m    839\u001b[0m     \u001b[38;5;28;01massert\u001b[39;00m d \u001b[38;5;241m==\u001b[39m \u001b[38;5;28mself\u001b[39m\u001b[38;5;241m.\u001b[39mcode_size\n\u001b[1;32m    840\u001b[0m     \u001b[38;5;28mself\u001b[39m\u001b[38;5;241m.\u001b[39madd_c(n, swig_ptr(x))\n",
      "File \u001b[0;32m~/.conda/envs/sandbox/lib/python3.10/site-packages/faiss/class_wrappers.py:41\u001b[0m, in \u001b[0;36m_check_dtype_uint8\u001b[0;34m(codes)\u001b[0m\n\u001b[1;32m     39\u001b[0m \u001b[38;5;28;01mdef\u001b[39;00m \u001b[38;5;21m_check_dtype_uint8\u001b[39m(codes):\n\u001b[1;32m     40\u001b[0m     \u001b[38;5;28;01mif\u001b[39;00m codes\u001b[38;5;241m.\u001b[39mdtype \u001b[38;5;241m!=\u001b[39m \u001b[38;5;124m'\u001b[39m\u001b[38;5;124muint8\u001b[39m\u001b[38;5;124m'\u001b[39m:\n\u001b[0;32m---> 41\u001b[0m         \u001b[38;5;28;01mraise\u001b[39;00m \u001b[38;5;167;01mTypeError\u001b[39;00m(\u001b[38;5;124m\"\u001b[39m\u001b[38;5;124mInput argument \u001b[39m\u001b[38;5;132;01m%s\u001b[39;00m\u001b[38;5;124m must be ndarray of dtype \u001b[39m\u001b[38;5;124m\"\u001b[39m\n\u001b[1;32m     42\u001b[0m                         \u001b[38;5;124m\"\u001b[39m\u001b[38;5;124m uint8, but found \u001b[39m\u001b[38;5;132;01m%s\u001b[39;00m\u001b[38;5;124m\"\u001b[39m \u001b[38;5;241m%\u001b[39m (\u001b[38;5;124m\"\u001b[39m\u001b[38;5;124mcodes\u001b[39m\u001b[38;5;124m\"\u001b[39m, codes\u001b[38;5;241m.\u001b[39mdtype))\n\u001b[1;32m     43\u001b[0m     \u001b[38;5;28;01mreturn\u001b[39;00m np\u001b[38;5;241m.\u001b[39mascontiguousarray(codes)\n",
      "\u001b[0;31mTypeError\u001b[0m: Input argument codes must be ndarray of dtype  uint8, but found float32"
     ]
    }
   ],
   "source": [
    "import faiss\n",
    "import numpy as np\n",
    "\n",
    "# Generate random 256-D vectors\n",
    "N = 100000  # Number of vectors\n",
    "D = 256  # Dimension\n",
    "data = np.random.random((N, D)).astype('float32')\n",
    "\n",
    "# Create an LSH index\n",
    "num_bits = 16  # Number of bits for hashing\n",
    "index = faiss.IndexLSH(D, num_bits)\n",
    "\n",
    "# https://github.com/facebookresearch/faiss/wiki/Faiss-indexes/1f721de164ae7950c65914d2dde0865312584a36\n",
    "\n",
    "\n",
    "# Add vectors to the index\n",
    "index.add(data)\n",
    "\n",
    "# Query\n",
    "#query = np.random.random((1, D)).astype('float32')\n",
    "query = np.expand_dims(data[100], 0)\n",
    "D, I = index.search(query, 10)  # Find top-10 nearest neighbors\n",
    "\n",
    "print(\"Nearest neighbors:\", I)\n"
   ]
  },
  {
   "cell_type": "code",
   "execution_count": 3,
   "id": "c890aad2-0e49-4729-8253-fed969356f71",
   "metadata": {},
   "outputs": [],
   "source": [
    "from scipy.spatial.distance import cdist\n",
    "feat_dists = cdist(query, data, metric='cosine').reshape(-1)\n",
    "min_dist, nearest_idx = np.min(feat_dists), np.argmin(feat_dists)"
   ]
  },
  {
   "cell_type": "code",
   "execution_count": 19,
   "id": "d461e103-7eea-4ddc-a162-968e5ff347f1",
   "metadata": {},
   "outputs": [
    {
     "data": {
      "text/plain": [
       "[array([0.23543808, 0.24439688, 0.25769359, ..., 0.24738973, 0.29674815,\n",
       "        0.24196164])]"
      ]
     },
     "execution_count": 19,
     "metadata": {},
     "output_type": "execute_result"
    }
   ],
   "source": [
    "[  cdist(np.expand_dims(data[x], 0)[0], data, metric='cosine').reshape(-1) for x in I]"
   ]
  },
  {
   "cell_type": "code",
   "execution_count": 16,
   "id": "8a750a12-d047-4e77-92c3-2176814bcdf0",
   "metadata": {},
   "outputs": [
    {
     "data": {
      "text/plain": [
       "1"
      ]
     },
     "execution_count": 16,
     "metadata": {},
     "output_type": "execute_result"
    }
   ],
   "source": [
    "len([ np.expand_dims(data[x], 0) for x in I][0])"
   ]
  },
  {
   "cell_type": "markdown",
   "id": "b3e435d3-1b4e-424e-8ae3-0b06f0c416e7",
   "metadata": {},
   "source": [
    "# faiss sur kitti"
   ]
  },
  {
   "cell_type": "code",
   "execution_count": 43,
   "id": "d8344af6-b6d5-4c1a-8f8a-ecf739772755",
   "metadata": {},
   "outputs": [
    {
     "name": "stdout",
     "output_type": "stream",
     "text": [
      "num_queries  18236\n",
      "Nearest neighbors: [[   1    3 4458 6341    0    9   11 2855 2860 4452]]\n",
      "Distance neighbors: [0.0, 1.72, 6.88, 2240.56, 0.86, 6.88, 8.6, 508.82, 510.06, 2.55]\n"
     ]
    }
   ],
   "source": [
    "import json\n",
    "import os\n",
    "import torch\n",
    "from module_loader_kitti_pose import * # add for more metrics\n",
    "import faiss\n",
    "eval_seq = 22\n",
    "num_bits = 32 \n",
    "\n",
    "log3dnet_dir=os.getenv('LOG3DNET_DIR')\n",
    "## ==== Kitti =====\n",
    "WORK_PATH = \"/lustre/fsn1/worksf/projects/rech/dki/ujo91el\"\n",
    "kitti_dir = WORK_PATH+\"/datas/datasets/\"\n",
    "eval_seq = '%02d' % eval_seq\n",
    "sequence_path = kitti_dir + 'sequences/' + eval_seq + '/'\n",
    "tfs, pose = load_poses_from_txt(sequence_path + 'poses.txt')\n",
    "num_queries = len(pose)\n",
    "print(\"num_queries \",num_queries)\n",
    "embeddings = []\n",
    "for query_idx in range(num_queries):\n",
    "    padded_string = str(query_idx).zfill(6)            \n",
    "    log_desc = sequence_path + \"/logg_desc/\" + padded_string + '.pt'\n",
    "    xx = torch.load(log_desc)\n",
    "    embeddings.append(xx)\n",
    "\n",
    "data = np.stack([t.detach().cpu().numpy() for t in embeddings])\n",
    "D = 256  # Dimension\n",
    "# Create an LSH index\n",
    " # Number of bits for hashing\n",
    "index = faiss.IndexLSH(D, num_bits)\n",
    "# https://github.com/facebookresearch/faiss/wiki/Faiss-indexes/1f721de164ae7950c65914d2dde0865312584a36\n",
    "\n",
    "\n",
    "# Add vectors to the index\n",
    "index.add(data)\n",
    "\n",
    "query = np.expand_dims(data[1], 0)\n",
    "D, I = index.search(query, 10)  # Find top-10 nearest neighbors\n",
    "print(\"Nearest neighbors:\", I)\n",
    "\n",
    "# distance\n",
    "print(\"Distance neighbors:\",[ round(np.linalg.norm(pose[1]- pose[place]),2) for place in I[0]])"
   ]
  },
  {
   "cell_type": "code",
   "execution_count": 48,
   "id": "0bc0b5e9-8ce9-4186-8b49-838ebb8ecb43",
   "metadata": {},
   "outputs": [
    {
     "data": {
      "text/plain": [
       "array([[0., 0., 0., 0., 1., 1., 1., 1., 1., 1.]], dtype=float32)"
      ]
     },
     "execution_count": 48,
     "metadata": {},
     "output_type": "execute_result"
    }
   ],
   "source": [
    "D"
   ]
  }
 ],
 "metadata": {
  "kernelspec": {
   "display_name": "sandbox",
   "language": "python",
   "name": "sandbox"
  },
  "language_info": {
   "codemirror_mode": {
    "name": "ipython",
    "version": 3
   },
   "file_extension": ".py",
   "mimetype": "text/x-python",
   "name": "python",
   "nbconvert_exporter": "python",
   "pygments_lexer": "ipython3",
   "version": "3.10.13"
  }
 },
 "nbformat": 4,
 "nbformat_minor": 5
}
