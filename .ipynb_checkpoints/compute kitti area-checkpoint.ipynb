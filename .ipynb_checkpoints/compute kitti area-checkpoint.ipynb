{
 "cells": [
  {
   "cell_type": "code",
   "execution_count": 2,
   "id": "992c1a4f-6f81-4d8a-803e-0ec06ae00735",
   "metadata": {},
   "outputs": [],
   "source": [
    "import numpy as np \n",
    "import matplotlib.pyplot as plt \n",
    "import torch \n",
    "import os\n",
    "from module_loader_kitti_pose import * # add for more metrics\n",
    "import math\n",
    "import json"
   ]
  },
  {
   "cell_type": "code",
   "execution_count": 19,
   "id": "7a5bea48-f073-4ab6-a0c5-0cb49c5af380",
   "metadata": {
    "scrolled": true
   },
   "outputs": [
    {
     "name": "stdout",
     "output_type": "stream",
     "text": [
      "eval_seq  00\n",
      "eval_seq  02\n",
      "eval_seq  05\n",
      "eval_seq  06\n",
      "eval_seq  07\n",
      "eval_seq  08\n",
      "distance parcourue (m) 16147.363861490772\n",
      "surface (m²) 1130315.470304354\n",
      "surface 18k nuages(km²) 1.130315470304354\n",
      "surface 160k nuages (km²) 10.007291108454346\n"
     ]
    }
   ],
   "source": [
    "WORK_PATH = \"/lustre/fsn1/worksf/projects/rech/dki/ujo91el\"\n",
    "kitti_dir = WORK_PATH+\"/datas/datasets/\"\n",
    "\n",
    "list_seq = [0, 2, 5, 6, 7, 8]\n",
    "ud_content = []\n",
    "\n",
    "cum_dist = 0\n",
    "for i in range(len(list_seq)):\n",
    "    eval_seq = list_seq[i]\n",
    "\n",
    "    eval_seq = '%02d' % eval_seq\n",
    "    print(\"eval_seq \", eval_seq)\n",
    "    sequence_path = kitti_dir + 'sequences/' + eval_seq + '/'\n",
    "\n",
    "    tfs, pose = load_poses_from_txt(sequence_path + 'poses.txt')\n",
    "\n",
    "    \n",
    "    for j in range(len(pose)-1):\n",
    "        cum_dist += np.linalg.norm(pose[j+1] - pose[j])\n",
    "print(\"distance parcourue (m)\", cum_dist)\n",
    "print(\"surface (m²)\", cum_dist*70)\n",
    "print(\"surface 18k nuages(km²)\", cum_dist*70/1000000)\n",
    "\n",
    "print(\"surface 160k nuages (km²)\", ( cum_dist*70/1000000 ) *161.4/18.23  )"
   ]
  },
  {
   "cell_type": "code",
   "execution_count": 15,
   "id": "ce9e6df9-87da-484d-9830-db651d3804db",
   "metadata": {},
   "outputs": [
    {
     "data": {
      "text/plain": [
       "1.130315"
      ]
     },
     "execution_count": 15,
     "metadata": {},
     "output_type": "execute_result"
    }
   ],
   "source": [
    "1130315 /(1000000)"
   ]
  }
 ],
 "metadata": {
  "kernelspec": {
   "display_name": "loggDSI",
   "language": "python",
   "name": "loggdsi"
  },
  "language_info": {
   "codemirror_mode": {
    "name": "ipython",
    "version": 3
   },
   "file_extension": ".py",
   "mimetype": "text/x-python",
   "name": "python",
   "nbconvert_exporter": "python",
   "pygments_lexer": "ipython3",
   "version": "3.10.14"
  }
 },
 "nbformat": 4,
 "nbformat_minor": 5
}
