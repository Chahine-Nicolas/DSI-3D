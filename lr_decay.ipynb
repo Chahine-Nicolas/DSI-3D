{
 "cells": [
  {
   "cell_type": "code",
   "execution_count": 8,
   "id": "8de3d292-4aac-4702-8ee9-1a2b5b3fdc9c",
   "metadata": {},
   "outputs": [
    {
     "name": "stdout",
     "output_type": "stream",
     "text": [
      "[1e-05, 1e-05, 1e-05, 1e-05, 1e-05, 1e-05, 1e-05, 1e-05, 1e-05, 1e-05]\n"
     ]
    }
   ],
   "source": [
    "import torch\n",
    "from transformers import get_scheduler\n",
    "\n",
    "# Define a dummy optimizer\n",
    "model_params = [torch.nn.Parameter(torch.randn(1))]  # Dummy parameter\n",
    "optimizer = torch.optim.Adam(model_params, lr=1e-5)  # Use your actual learning rate\n",
    "\n",
    "# Define the scheduler\n",
    "num_training_steps = 10000  # Set according to your actual training setup\n",
    "scheduler = get_scheduler(\n",
    "    name=\"linear\",\n",
    "    optimizer=optimizer,  # Pass the optimizer here\n",
    "    num_warmup_steps=0,\n",
    "    num_training_steps=num_training_steps,\n",
    ")\n",
    "\n",
    "# Get learning rates for each step\n",
    "lr_values = [scheduler.get_last_lr()[0] for _ in range(num_training_steps)]\n",
    "print(lr_values[:10])  # Print the first 10 learning rate values\n"
   ]
  },
  {
   "cell_type": "code",
   "execution_count": 9,
   "id": "8b8bbf0f-cf3f-4cbe-9acf-6d3ce2d5f9d8",
   "metadata": {},
   "outputs": [
    {
     "data": {
      "text/plain": [
       "1e-05"
      ]
     },
     "execution_count": 9,
     "metadata": {},
     "output_type": "execute_result"
    }
   ],
   "source": [
    "lr_values[-1]"
   ]
  },
  {
   "cell_type": "code",
   "execution_count": null,
   "id": "61a87ef6-3240-4977-ae92-4730fbc158c1",
   "metadata": {},
   "outputs": [],
   "source": []
  }
 ],
 "metadata": {
  "kernelspec": {
   "display_name": "sandbox",
   "language": "python",
   "name": "sandbox"
  },
  "language_info": {
   "codemirror_mode": {
    "name": "ipython",
    "version": 3
   },
   "file_extension": ".py",
   "mimetype": "text/x-python",
   "name": "python",
   "nbconvert_exporter": "python",
   "pygments_lexer": "ipython3",
   "version": "3.10.13"
  }
 },
 "nbformat": 4,
 "nbformat_minor": 5
}
